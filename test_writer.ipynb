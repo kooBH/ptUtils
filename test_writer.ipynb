{
 "cells": [
  {
   "cell_type": "code",
   "execution_count": 16,
   "id": "c11d34d3-4fc3-46da-b647-27540438d2bf",
   "metadata": {},
   "outputs": [],
   "source": [
    "import writer\n",
    "import torch\n",
    "import numpy as np\n",
    "import matplotlib.pylab as plt\n",
    "from plotting import spec2plot\n",
    "from matplotlib import cm"
   ]
  },
  {
   "cell_type": "markdown",
   "id": "e3e7e272-c5ec-435b-a290-9151fab28095",
   "metadata": {},
   "source": [
    "## Data"
   ]
  },
  {
   "cell_type": "code",
   "execution_count": 17,
   "id": "765abb76-1d61-400d-86bd-8c52ea119b59",
   "metadata": {},
   "outputs": [
    {
     "name": "stdout",
     "output_type": "stream",
     "text": [
      "torch.Size([513, 386, 2])\n"
     ]
    }
   ],
   "source": [
    "data = torch.load('/home/data/kbh/MCSE/CGMM_RLS_MPDR/test/clean/F01_050C0103_BTH.pt')\n",
    "print(data.shape)"
   ]
  },
  {
   "cell_type": "code",
   "execution_count": 18,
   "id": "bcd81a78-16a7-4c74-bb03-64ad1f931d14",
   "metadata": {},
   "outputs": [],
   "source": [
    "data = data[:,:,:]"
   ]
  },
  {
   "cell_type": "code",
   "execution_count": 22,
   "id": "8fe4691e-c332-45b1-9298-0c2764f251e4",
   "metadata": {},
   "outputs": [],
   "source": [
    "def fig2np(fig):\n",
    "    data = np.fromstring(fig.canvas.tostring_rgb(), dtype=np.uint8, sep='')\n",
    "    data = data.reshape(fig.canvas.get_width_height()[::-1] + (3,))\n",
    "    return data"
   ]
  },
  {
   "cell_type": "code",
   "execution_count": 41,
   "id": "018fb163-6b50-43cd-a50c-a0c53e337646",
   "metadata": {},
   "outputs": [],
   "source": [
    "def test(data,title):\n",
    "    data = data.detach().cpu().numpy()\n",
    "    spec = np.power(data[:,:,0],2) + np.power(data[:,:,1],2)\n",
    "    spec = 10*np.log(spec)\n",
    "    fig, ax = plt.subplots()\n",
    "    im = plt.imshow(spec, cmap=cm.jet, aspect='auto',origin='lower')\n",
    "    plt.colorbar(im)\n",
    "    plt.clim(-80,20)\n",
    "    \n",
    "    plt.xlabel('Time')\n",
    "    plt.ylabel('Freq')\n",
    "    plt.title(title)\n",
    "    \n",
    "    fig.canvas.draw()\n",
    "    plot = fig2np(fig)\n",
    "    return plot,fig"
   ]
  },
  {
   "cell_type": "code",
   "execution_count": 42,
   "id": "7aee3d62-c8d9-4941-b54a-5e5526be8cc4",
   "metadata": {},
   "outputs": [
    {
     "name": "stdout",
     "output_type": "stream",
     "text": [
      "(480, 640, 3)\n",
      "Figure(640x480)\n"
     ]
    },
    {
     "name": "stderr",
     "output_type": "stream",
     "text": [
      "<ipython-input-22-26a7e47ab2e0>:2: DeprecationWarning: The binary mode of fromstring is deprecated, as it behaves surprisingly on unicode inputs. Use frombuffer instead\n",
      "  data = np.fromstring(fig.canvas.tostring_rgb(), dtype=np.uint8, sep='')\n"
     ]
    }
   ],
   "source": [
    "plot,fig = test(data,'hello')\n",
    "print(plot.shape)\n",
    "print(fig)\n",
    "\n",
    "fig.savefig('test.png')"
   ]
  },
  {
   "cell_type": "code",
   "execution_count": null,
   "id": "7317d91b-bfe3-4960-b00d-4e465bcc45ce",
   "metadata": {},
   "outputs": [],
   "source": []
  }
 ],
 "metadata": {
  "kernelspec": {
   "display_name": "Python 3",
   "language": "python",
   "name": "python3"
  },
  "language_info": {
   "codemirror_mode": {
    "name": "ipython",
    "version": 3
   },
   "file_extension": ".py",
   "mimetype": "text/x-python",
   "name": "python",
   "nbconvert_exporter": "python",
   "pygments_lexer": "ipython3",
   "version": "3.8.0"
  }
 },
 "nbformat": 4,
 "nbformat_minor": 5
}
